{
 "metadata": {
  "name": "test"
 },
 "nbformat": 3,
 "nbformat_minor": 0,
 "worksheets": [
  {
   "cells": [
    {
     "cell_type": "code",
     "collapsed": false,
     "input": [
      "import game; reload(game)\n",
      "import logging\n",
      "import os.path\n",
      "logger = logging.getLogger().setLevel(\"INFO\")"
     ],
     "language": "python",
     "metadata": {},
     "outputs": [],
     "prompt_number": 34
    },
    {
     "cell_type": "code",
     "collapsed": false,
     "input": [
      "fn = r\"z:\\documents\\scrabble\\examples\\yorra_cresta.gcg\"\n",
      "fn = r\"Z:\\documents\\scrabble\\examples\\2006_nsc_rd25_thevenot_kramer.gcg\"\n",
      "txt = open(fn, mode=\"r\").read()"
     ],
     "language": "python",
     "metadata": {},
     "outputs": [],
     "prompt_number": 35
    },
    {
     "cell_type": "code",
     "collapsed": false,
     "input": [
      "outfn = r\"z:\\documents\\scrabble\\examples\\%s.html\" % os.path.basename(fn)\n",
      "f = open(outfn, mode=\"w\")\n",
      "reload(game)\n",
      "g = game.Game()\n",
      "g.read_gcg(txt)\n",
      "for board in g.get_boards():\n",
      "    f.write(game.get_html_table_board(board))\n",
      "f.close()"
     ],
     "language": "python",
     "metadata": {},
     "outputs": [],
     "prompt_number": 36
    },
    {
     "cell_type": "code",
     "collapsed": false,
     "input": [
      "print \"\\n\".join([\"\".join(r) for r in gr])"
     ],
     "language": "python",
     "metadata": {},
     "outputs": []
    },
    {
     "cell_type": "code",
     "collapsed": false,
     "input": [],
     "language": "python",
     "metadata": {},
     "outputs": []
    }
   ],
   "metadata": {}
  }
 ]
}